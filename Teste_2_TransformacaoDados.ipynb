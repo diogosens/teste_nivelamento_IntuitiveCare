{
 "cells": [
  {
   "cell_type": "code",
   "execution_count": 1,
   "id": "88eacce7",
   "metadata": {},
   "outputs": [],
   "source": [
    "#bibliotecas\n",
    "import numpy as np\n",
    "import pandas as pd\n",
    "import tabula\n",
    "from zipfile import ZipFile"
   ]
  },
  {
   "cell_type": "code",
   "execution_count": 2,
   "id": "3b6cbe66",
   "metadata": {},
   "outputs": [],
   "source": [
    "#titulo do arquivo pdf a ser lido\n",
    "titulo_pdf = \"Padrão_TISS_Componente_Organizacional_202103.pdf\"\n",
    "\n",
    "#titulo das tabelas\n",
    "titulo_30 = 'Tabela de Tipo do Demandante'\n",
    "titulo_31 = 'Tabela de Categoria do Padrão TISS'\n",
    "titulo_32 = 'Tabela de Tipo de Solicitação'\n",
    "\n",
    "#titulo do arquivo zip\n",
    "titulo_zip = 'Teste_Intuitive_Care_Diogo_Filipe_Sens.zip'"
   ]
  },
  {
   "cell_type": "code",
   "execution_count": 3,
   "id": "af76f03d",
   "metadata": {},
   "outputs": [],
   "source": [
    "#ler todas as tabelas do documento pdf\n",
    "table = tabula.read_pdf(titulo_pdf, pages = \"all\")"
   ]
  },
  {
   "cell_type": "code",
   "execution_count": 4,
   "id": "6dbe6110",
   "metadata": {},
   "outputs": [],
   "source": [
    "#encontrar as tabelas solicitadas\n",
    "for i in range(len(table)):\n",
    "    if titulo_30 in table[i].columns.values:\n",
    "        quadro_30 = pd.DataFrame(table[i])\n",
    "    elif titulo_31 in table[i].columns.values:\n",
    "        quadro_31 = pd.DataFrame(table[i])\n",
    "        index = i #indice de referencia para apensar as subtabelas (ver adiante)\n",
    "    elif titulo_32 in table[i].columns.values:\n",
    "        quadro_32 = pd.DataFrame(table[i])\n"
   ]
  },
  {
   "cell_type": "code",
   "execution_count": 5,
   "id": "a243bb37",
   "metadata": {},
   "outputs": [],
   "source": [
    "#criar um dataframe provisorio com rotulo da tabela 31\n",
    "df_prov = pd.DataFrame(columns = table[index].columns.values)\n",
    "\n",
    "for i in range(1,6):\n",
    "    #adicionar o cabeçalho das subtabelas como linha do dataframe provisorio\n",
    "    #obs: subtabelas sao as partes da tabela 31 que ficaram nas paginas seguintes\n",
    "    df_prov[table[index].columns.values[0]] = [table[index + i].columns.values[0]]\n",
    "    df_prov[table[index].columns.values[1]] = [table[index + i].columns.values[1]]\n",
    "\n",
    "    #mudar o nome do rotulo das subtabelas para o rotulo da tabela 31\n",
    "    table[index + i].columns = table[index].columns.values\n",
    "\n",
    "    #apensar as subtabelas ao dataframe provisorio\n",
    "    df_prov = df_prov.append(table[index + i])\n",
    "\n",
    "    #apensar o dataframe provisorio a tabela 31\n",
    "    quadro_31 = quadro_31.append(df_prov)\n",
    "\n",
    "    #esvaziar o dataframe provisorio\n",
    "    df_prov = pd.DataFrame(columns = table[index].columns.values)"
   ]
  },
  {
   "cell_type": "code",
   "execution_count": 6,
   "id": "d1f8e66d",
   "metadata": {},
   "outputs": [],
   "source": [
    "#resetando os indices da tabela 31\n",
    "quadro_31 = quadro_31.reset_index(drop=True)"
   ]
  },
  {
   "cell_type": "code",
   "execution_count": 7,
   "id": "8ebdcac1",
   "metadata": {},
   "outputs": [],
   "source": [
    "#separando as colunas da tabela 30\n",
    "quadro_30 = quadro_30.join(quadro_30[titulo_30].str.split(expand=True, n = 1))\n",
    "quadro_30.columns.values[2] = quadro_30.columns.values[0]\n",
    "quadro_30.columns.values[0] = 'Delete'\n",
    "del quadro_30['Delete']"
   ]
  },
  {
   "cell_type": "code",
   "execution_count": 8,
   "id": "cd2d4f46",
   "metadata": {},
   "outputs": [],
   "source": [
    "#separando as colunas da tabela 32\n",
    "quadro_32 = quadro_32.join(quadro_32[titulo_32].str.split(expand=True, n = 1))\n",
    "quadro_32.columns.values[2] = quadro_32.columns.values[0]\n",
    "quadro_32.columns.values[0] = 'Delete'\n",
    "del quadro_32['Delete']"
   ]
  },
  {
   "cell_type": "code",
   "execution_count": 9,
   "id": "4e123426",
   "metadata": {},
   "outputs": [],
   "source": [
    "#alterando o rotulo das colunas das tabelas\n",
    "quadro_30.columns = [quadro_30[0][0], quadro_30[titulo_30][0]]\n",
    "quadro_31.columns = [quadro_31['Unnamed: 0'][0], quadro_31[titulo_31][0]]\n",
    "quadro_32.columns = [quadro_32[0][0], quadro_32[titulo_32][0]]"
   ]
  },
  {
   "cell_type": "code",
   "execution_count": 10,
   "id": "08e63ae8",
   "metadata": {},
   "outputs": [],
   "source": [
    "#eliminando a primeira linha das tabelas com informacao repetida\n",
    "quadro_30 = quadro_30.loc[1:5]\n",
    "quadro_31 = quadro_31.loc[1:131]\n",
    "quadro_32 = quadro_32.loc[1:3]"
   ]
  },
  {
   "cell_type": "code",
   "execution_count": 11,
   "id": "52f0904c",
   "metadata": {},
   "outputs": [],
   "source": [
    "#resetando os indices das tabelas\n",
    "quadro_30 = quadro_30.reset_index(drop=True)\n",
    "quadro_31 = quadro_31.reset_index(drop=True)\n",
    "quadro_32 = quadro_32.reset_index(drop=True)"
   ]
  },
  {
   "cell_type": "code",
   "execution_count": 12,
   "id": "7b528c39",
   "metadata": {},
   "outputs": [],
   "source": [
    "#salvando arquivos .csv\n",
    "quadro_30.to_csv(titulo_30 + '.csv')\n",
    "quadro_31.to_csv(titulo_31 + '.csv')\n",
    "quadro_32.to_csv(titulo_32 + '.csv')"
   ]
  },
  {
   "cell_type": "code",
   "execution_count": 13,
   "id": "bc77713b",
   "metadata": {},
   "outputs": [],
   "source": [
    "#criando arquivo zip dos arquivos csv\n",
    "zipObj = ZipFile(titulo_zip, 'w')\n",
    "zipObj.write(titulo_30 + '.csv')\n",
    "zipObj.write(titulo_31 + '.csv')\n",
    "zipObj.write(titulo_32 + '.csv')\n",
    "zipObj.close()"
   ]
  }
 ],
 "metadata": {
  "kernelspec": {
   "display_name": "Python 3",
   "language": "python",
   "name": "python3"
  },
  "language_info": {
   "codemirror_mode": {
    "name": "ipython",
    "version": 3
   },
   "file_extension": ".py",
   "mimetype": "text/x-python",
   "name": "python",
   "nbconvert_exporter": "python",
   "pygments_lexer": "ipython3",
   "version": "3.8.8"
  }
 },
 "nbformat": 4,
 "nbformat_minor": 5
}
