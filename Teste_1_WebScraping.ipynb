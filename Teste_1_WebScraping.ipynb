{
 "cells": [
  {
   "cell_type": "code",
   "execution_count": 1,
   "id": "6334f2a2",
   "metadata": {},
   "outputs": [],
   "source": [
    "#bibliotecas\n",
    "from bs4 import BeautifulSoup\n",
    "from urllib.request import Request, urlopen\n",
    "import re\n",
    "import pandas as pd\n",
    "import wget"
   ]
  },
  {
   "cell_type": "code",
   "execution_count": 2,
   "id": "750e3277",
   "metadata": {},
   "outputs": [],
   "source": [
    "#url de referencia\n",
    "URL = \"http://www.ans.gov.br/prestadores/tiss-troca-de-informacao-de-saude-suplementar\"\n",
    "\n",
    "#encontrando todos os hiperlinks da pagina da URL de referencia\n",
    "req = Request(URL)\n",
    "html_page = urlopen(req)\n",
    "soup = BeautifulSoup(html_page, \"lxml\")\n",
    "links = []\n",
    "for link in soup.findAll('a'):\n",
    "    links.append(link.get('href'))\n",
    "links = list(filter(None, links))"
   ]
  },
  {
   "cell_type": "code",
   "execution_count": 3,
   "id": "82c99879",
   "metadata": {},
   "outputs": [],
   "source": [
    "#encontrando o hiperlink do historico de versoes do Padrao TISS\n",
    "word = 'historico' \n",
    "URL_historico = []\n",
    "for link in links:\n",
    "    if word in link:\n",
    "        URL_historico.append(link)\n",
    "\n",
    "#removendo valores repetidos\n",
    "URL_historico = list(set(URL_historico))\n",
    "URL_historico = 'http://www.ans.gov.br' + URL_historico[0]"
   ]
  },
  {
   "cell_type": "code",
   "execution_count": 4,
   "id": "18316c5d",
   "metadata": {},
   "outputs": [],
   "source": [
    "#coletando historico de versoes do Padrao TISS\n",
    "df = pd.read_html(URL_historico)"
   ]
  },
  {
   "cell_type": "code",
   "execution_count": 5,
   "id": "998163c6",
   "metadata": {},
   "outputs": [],
   "source": [
    "#verificando data da ultima versao do Componente Organizacional\n",
    "data_versao = df[0]['Organizacional'][0].split('/') #[mes, ano]\n",
    "\n",
    "#traduzindo as expressoes para mes\n",
    "data_versoes = (pd.DataFrame(data = {'Data Versão': ['jan', 'fev', 'mar',\n",
    "                                              'abr', 'mai', 'jun',\n",
    "                                              'jul', 'ago', 'set',\n",
    "                                              'out', 'nov', 'dez'],\n",
    "                                     'Data Link': ['janeiro-', 'fevereiro-', 'marco-',\n",
    "                                              'abril-', 'maio-', 'junho-',\n",
    "                                              'julho-', 'agosto-', 'setembro-',\n",
    "                                              'outubro-', 'novembro-', 'dezembro-']}))\n",
    "\n",
    "#encontrando o mes da ultima versao\n",
    "for i in range(data_versoes['Data Versão'].size):\n",
    "    if data_versoes['Data Versão'][i] == data_versao[0]:\n",
    "        index = i\n",
    "        mes = data_versoes['Data Link'][index]\n",
    "    "
   ]
  },
  {
   "cell_type": "code",
   "execution_count": 6,
   "id": "122715bd",
   "metadata": {},
   "outputs": [],
   "source": [
    "#data da ultima versao\n",
    "data = mes + data_versao[1]"
   ]
  },
  {
   "cell_type": "code",
   "execution_count": 7,
   "id": "ba2d9b0b",
   "metadata": {},
   "outputs": [],
   "source": [
    "#encontrando o hiperlink da ultima versao \n",
    "URL_ultima_versao = []\n",
    "for link in links:\n",
    "    if data in link:\n",
    "        URL_ultima_versao.append(link)\n",
    "\n",
    "#removendo valores repetidos\n",
    "URL_ultima_versao = list(set(URL_ultima_versao))\n",
    "URL_ultima_versao = 'http://www.ans.gov.br' + URL_ultima_versao[0]"
   ]
  },
  {
   "cell_type": "code",
   "execution_count": 8,
   "id": "4d7ec991",
   "metadata": {},
   "outputs": [],
   "source": [
    "#encontrando o link do arquivo pdf\n",
    "req = Request(URL_ultima_versao)\n",
    "html_page = urlopen(req)\n",
    "soup = BeautifulSoup(html_page, \"html.parser\")\n",
    "links_2 = []\n",
    "for link in soup.findAll('a'):\n",
    "    links_2.append(link.get('href'))"
   ]
  },
  {
   "cell_type": "code",
   "execution_count": 9,
   "id": "11d94147",
   "metadata": {},
   "outputs": [],
   "source": [
    "#convertendo none para string\n",
    "links_2 = ['None' if v is None else v for v in links_2]"
   ]
  },
  {
   "cell_type": "code",
   "execution_count": 10,
   "id": "ee7c5744",
   "metadata": {},
   "outputs": [],
   "source": [
    "# links_2 = list(filter(None, links))\n",
    "for link in links_2:\n",
    "    if '.pdf' in link:\n",
    "        URL_pdf = link#.get('href', [])\n",
    "\n",
    "URL_pdf = 'http://www.ans.gov.br' + URL_pdf"
   ]
  },
  {
   "cell_type": "code",
   "execution_count": 11,
   "id": "edd4363b",
   "metadata": {},
   "outputs": [
    {
     "name": "stdout",
     "output_type": "stream",
     "text": [
      "100% [..........................................................................] 3326314 / 3326314"
     ]
    },
    {
     "data": {
      "text/plain": [
       "'Padrão_TISS_Componente_Organizacional_202103.pdf'"
      ]
     },
     "execution_count": 11,
     "metadata": {},
     "output_type": "execute_result"
    }
   ],
   "source": [
    "#baixando arquivo pdf\n",
    "wget.download(URL_pdf)"
   ]
  }
 ],
 "metadata": {
  "kernelspec": {
   "display_name": "Python 3",
   "language": "python",
   "name": "python3"
  },
  "language_info": {
   "codemirror_mode": {
    "name": "ipython",
    "version": 3
   },
   "file_extension": ".py",
   "mimetype": "text/x-python",
   "name": "python",
   "nbconvert_exporter": "python",
   "pygments_lexer": "ipython3",
   "version": "3.8.8"
  }
 },
 "nbformat": 4,
 "nbformat_minor": 5
}
